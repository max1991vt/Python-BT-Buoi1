{
 "cells": [
  {
   "cell_type": "markdown",
   "id": "764bdf67",
   "metadata": {},
   "source": [
    "<!-- 1. Dữ liệu giá cổ phiếu: Viết vòng lặp xác định nếu giá cp lên 7% so với ngày\n",
    "hôm trước thì bán, xuống 6% so với ngày hôm trước thì mua\n",
    "gia_theo_ngay = [10.1, 9.5, 10.7, 10.8, 10.6, 10.0, 1 -->\n"
   ]
  },
  {
   "cell_type": "code",
   "execution_count": null,
   "id": "1c6d38bb",
   "metadata": {},
   "outputs": [],
   "source": [
    "gia_theo_ngay = [10.1, 9.5, 10.7, 10.8, 10.6, 10.0, 10.2, 9.5]\n",
    "gia_hom_truoc = 10.1\n",
    "\n",
    "for gia_hom_nay in gia_theo_ngay:\n",
    "    if gia_hom_nay > gia_hom_truoc:\n",
    "        tang = ((gia_hom_nay/gia_hom_truoc)*100)-100\n",
    "        if tang >= 7 :\n",
    "            print(\"Bán cổ phiếu với giá : \",gia_hom_nay)\n",
    "    if gia_hom_nay < gia_hom_truoc:\n",
    "        giam = ((gia_hom_truoc/gia_hom_nay)*100)-100\n",
    "        if giam >= 6 :\n",
    "            print(\"Mua cổ phiếu với giá : \",gia_hom_nay)\n",
    "\n",
    "    gia_hom_truoc = gia_hom_nay\n"
   ]
  },
  {
   "cell_type": "markdown",
   "id": "7f007c07",
   "metadata": {},
   "source": [
    "<!-- 2. Viết hàm tính tiền bảo hiểm và thuế thu nhập cá nhân cho các nhân viên:\n",
    "    Input: lương, phụ cấp\n",
    "    Output: BHXH, PIT   --> "
   ]
  },
  {
   "cell_type": "code",
   "execution_count": 4,
   "id": "9404d47f",
   "metadata": {},
   "outputs": [
    {
     "name": "stdout",
     "output_type": "stream",
     "text": [
      "Nhập lương nhân viên hằng tháng (VND): 10000000\n",
      "Nhập phụ cấp nhân viên hằng tháng (VND):50000000\n",
      "PIT của nhân viên là:  12000000 VND\n",
      "Bảo hiểm của nhân viên là:  120000000 VND\n"
     ]
    }
   ],
   "source": [
    "def nhap_luong():\n",
    "    luong = input(\"Nhập lương nhân viên hằng tháng (VND): \")\n",
    "    return int(luong)\n",
    "def nhap_phu_cap():\n",
    "    phu_cap = input(\"Nhập phụ cấp nhân viên hằng tháng (VND):\")\n",
    "    return int(phu_cap)\n",
    "def tinh_bao_hiem_va_pit():\n",
    "    luong = nhap_luong()\n",
    "    phu_cap = nhap_phu_cap()\n",
    "    \n",
    "    bao_hiem = 2*(luong + phu_cap)\n",
    "    pit = 0.2*(luong + phu_cap)\n",
    "    \n",
    "    print(\"PIT của nhân viên là: \", int(pit) , \"VND\")\n",
    "    print(\"Bảo hiểm của nhân viên là: \",bao_hiem , \"VND\")\n",
    "\n",
    "tinh_bao_hiem_va_pit()\n",
    "\n",
    "    "
   ]
  }
 ],
 "metadata": {
  "kernelspec": {
   "display_name": "Python 3 (ipykernel)",
   "language": "python",
   "name": "python3"
  },
  "language_info": {
   "codemirror_mode": {
    "name": "ipython",
    "version": 3
   },
   "file_extension": ".py",
   "mimetype": "text/x-python",
   "name": "python",
   "nbconvert_exporter": "python",
   "pygments_lexer": "ipython3",
   "version": "3.9.7"
  }
 },
 "nbformat": 4,
 "nbformat_minor": 5
}
